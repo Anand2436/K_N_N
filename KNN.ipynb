{
 "cells": [
  {
   "cell_type": "markdown",
   "metadata": {},
   "source": [
    "## choose k nearest neighbours for prediction\n",
    "\n",
    "Q. Why not k==1?\n",
    "A. Prone to overfitting\n",
    "\n",
    "==> KNN does more computation on testing data than training data. \n",
    "==> Feature Scaling very very important to be applied.\n"
   ]
  },
  {
   "cell_type": "code",
   "execution_count": 7,
   "metadata": {},
   "outputs": [],
   "source": [
    "from sklearn import datasets\n",
    "from sklearn.model_selection import train_test_split\n",
    "from sklearn.neighbors import KNeighborsClassifier\n",
    "from sklearn.model_selection import cross_val_score\n",
    "import matplotlib.pyplot as plt\n",
    "from sklearn import preprocessing"
   ]
  },
  {
   "cell_type": "code",
   "execution_count": 14,
   "metadata": {},
   "outputs": [],
   "source": [
    "breastData = datasets.load_breast_cancer()\n",
    "scaler = preprocessing.StandardScaler()\n",
    "x = breastData.data\n",
    "y = breastData.target\n",
    "\n",
    "#print(x)\n",
    "scaler.fit(x)\n",
    "x1 = scaler.transform(x)\n",
    "\n",
    "#print(x1)\n",
    "xtrain , xtest, ytrain , ytest = train_test_split(x1,y,random_state = 2,test_size = 0.3)"
   ]
  },
  {
   "cell_type": "code",
   "execution_count": 16,
   "metadata": {},
   "outputs": [
    {
     "data": {
      "text/plain": [
       "KNeighborsClassifier(algorithm='auto', leaf_size=30, metric='minkowski',\n",
       "           metric_params=None, n_jobs=1, n_neighbors=5, p=2,\n",
       "           weights='uniform')"
      ]
     },
     "execution_count": 16,
     "metadata": {},
     "output_type": "execute_result"
    }
   ],
   "source": [
    "clf=KNeighborsClassifier()\n",
    "\n",
    "clf.fit(xtrain,ytrain)"
   ]
  },
  {
   "cell_type": "code",
   "execution_count": 17,
   "metadata": {},
   "outputs": [
    {
     "data": {
      "text/plain": [
       "0.97660818713450293"
      ]
     },
     "execution_count": 17,
     "metadata": {},
     "output_type": "execute_result"
    }
   ],
   "source": [
    "clf.score(xtest,ytest)"
   ]
  },
  {
   "cell_type": "markdown",
   "metadata": {},
   "source": [
    "# finding optimal k\n",
    "\n",
    "Check for different values of k (odd) to find optimal k\n",
    "\n",
    "\n",
    "We should check on training data only."
   ]
  },
  {
   "cell_type": "code",
   "execution_count": 21,
   "metadata": {},
   "outputs": [
    {
     "name": "stdout",
     "output_type": "stream",
     "text": [
      "1 0.954809286899\n",
      "3 0.967397859189\n",
      "5 0.957259158752\n",
      "7 0.957259158752\n",
      "9 0.957221468415\n",
      "11 0.954733906226\n",
      "13 0.959784411277\n",
      "15 0.959822101613\n",
      "17 0.957334539424\n",
      "19 0.954809286899\n",
      "21 0.947271219659\n",
      "23 0.949796472185\n",
      "25 0.949796472185\n",
      "27 0.947308909995\n",
      "29 0.949834162521\n"
     ]
    }
   ],
   "source": [
    "for i in range(1,30,2):\n",
    "    clf = KNeighborsClassifier(n_neighbors = i)\n",
    "    avg_score = cross_val_score(clf,xtrain,ytrain).mean()\n",
    "    print(i,avg_score)"
   ]
  },
  {
   "cell_type": "code",
   "execution_count": 23,
   "metadata": {},
   "outputs": [
    {
     "data": {
      "image/png": "[encoded data removed]",
      "text/plain": [
       "<matplotlib.figure.Figure at 0x7ff15048ee80>"
      ]
     },
     "metadata": {},
     "output_type": "display_data"
    }
   ],
   "source": [
    "#plotting a graph\n",
    "\n",
    "x_axis = []\n",
    "y_axis = []\n",
    "\n",
    "for i in range(1,30,2):\n",
    "    clf = KNeighborsClassifier(n_neighbors = i)\n",
    "    x_axis.append(i)\n",
    "    avg_score = cross_val_score(clf,xtrain,ytrain).mean()\n",
    "    y_axis.append(avg_score)\n",
    "    \n",
    "plt.plot(x_axis,y_axis)\n",
    "plt.show()"
   ]
  },
  {
   "cell_type": "markdown",
   "metadata": {},
   "source": [
    "# therefore we are getting our max value at k = 3"
   ]
  },
  {
   "cell_type": "code",
   "execution_count": null,
   "metadata": {
    "collapsed": true
   },
   "outputs": [],
   "source": []
  }
 ],
 "metadata": {
  "kernelspec": {
   "display_name": "Python 3",
   "language": "python",
   "name": "python3"
  },
  "language_info": {
   "codemirror_mode": {
    "name": "ipython",
    "version": 3
   },
   "file_extension": ".py",
   "mimetype": "text/x-python",
   "name": "python",
   "nbconvert_exporter": "python",
   "pygments_lexer": "ipython3",
   "version": "3.6.3"
  }
 },
 "nbformat": 4,
 "nbformat_minor": 2
}
