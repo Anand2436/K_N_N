{
 "cells": [
  {
   "cell_type": "code",
   "execution_count": 10,
   "metadata": {
    "collapsed": true
   },
   "outputs": [],
   "source": [
    "from sklearn import datasets\n",
    "from collections import Counter \n",
    "from sklearn.neighbors import KNeighborsClassifier\n",
    "import numpy as np\n",
    "from sklearn.metrics import accuracy_score\n",
    "from sklearn.model_selection import train_test_split \n",
    "from sklearn import preprocessing\n",
    "from sklearn.model_selection import cross_val_score"
   ]
  },
  {
   "cell_type": "code",
   "execution_count": 17,
   "metadata": {},
   "outputs": [],
   "source": [
    "bdata = datasets.load_breast_cancer()\n",
    "scaler = preprocessing.StandardScaler()\n",
    "\n",
    "x = bdata.data\n",
    "y = bdata.target\n",
    "\n",
    "scaler.fit(x) # feature scaling important with KNN\n",
    "\n",
    "x1 = scaler.transform(x)\n",
    "\n",
    "x_train, x_test, y_train, y_test = train_test_split(x1,y,random_state = 1,test_size = 0.3)"
   ]
  },
  {
   "cell_type": "code",
   "execution_count": 20,
   "metadata": {},
   "outputs": [
    {
     "name": "stdout",
     "output_type": "stream",
     "text": [
      "Inbuilt KNN gives score : 0.959064327485\n"
     ]
    }
   ],
   "source": [
    "# Checking accuracy with in built KNN\n",
    "\n",
    "clf = KNeighborsClassifier(n_neighbors = 7)\n",
    "clf.fit(x_train,y_train)\n",
    "y_pred = clf.predict(x_test)\n",
    "\n",
    "print(\"Inbuilt KNN gives score :\",accuracy_score(y_test,y_pred))"
   ]
  },
  {
   "cell_type": "markdown",
   "metadata": {},
   "source": [
    "## Our implementation"
   ]
  },
  {
   "cell_type": "code",
   "execution_count": 58,
   "metadata": {
    "collapsed": true
   },
   "outputs": [],
   "source": [
    "# Doing nothing in the predict function\n",
    "\n",
    "def fit(x_train,y_train):\n",
    "    return \n",
    "\n",
    "# predict one function predicts class for one row of x_test\n",
    "# parameters taken : 4 .\n",
    "\n",
    "def predict_one(x_train,y_train,x_test_row,k):\n",
    "    distances_list = [] # list of the distances of ith row of training data and test row stored\n",
    "    # with the indices in training data\n",
    "    for i in range(len(x_train)):\n",
    "        distance = ((x_train[i,:] - x_test_row)**2).sum() # Euclidean without sq root\n",
    "        distances_list.append([distance,i])\n",
    "        \n",
    "    #sort distances\n",
    "    distances_list = sorted(distances_list) # sorts in increasing order using index one data(distance) as parameter\n",
    "    \n",
    "    # store k classes of minimum distance\n",
    "    target_class = []\n",
    "    for i in range(k):\n",
    "        training_index = distances_list[i][1] # will give index of training class falling in k closest neighbors\n",
    "        target_class.append(y_train[training_index]) # appending the class\n",
    "        \n",
    "    return Counter(target_class).most_common(1)[0][0]\n",
    "\n",
    "# predict all function\n",
    "\n",
    "def predict_all(x_train, y_train, x_test, k):\n",
    "    y_pred = []\n",
    "    for x2 in x_test:\n",
    "        class_ans = predict_one(x_train,y_train,x2,k)\n",
    "        y_pred.append(class_ans)\n",
    "    return y_pred"
   ]
  },
  {
   "cell_type": "code",
   "execution_count": 59,
   "metadata": {},
   "outputs": [
    {
     "name": "stdout",
     "output_type": "stream",
     "text": [
      "Counter({2: 6, 1: 5, 3: 2, 23: 1})\n",
      "[(2, 6)]\n",
      "[(2, 6), (1, 5)]\n",
      "(2, 6)\n",
      "2\n"
     ]
    }
   ],
   "source": [
    "# How Counter works in sklearn\n",
    "\n",
    "arr = [1,2,3,2,1,2,2,2,1,1,1,2,23,3]\n",
    "print(Counter(arr))\n",
    "\n",
    "print(Counter(arr).most_common(1))\n",
    "\n",
    "print(Counter(arr).most_common(2))\n",
    "\n",
    "print(Counter(arr).most_common(1)[0])\n",
    "\n",
    "print(Counter(arr).most_common(1)[0][0])"
   ]
  },
  {
   "cell_type": "code",
   "execution_count": 62,
   "metadata": {},
   "outputs": [
    {
     "name": "stdout",
     "output_type": "stream",
     "text": [
      "Implemented KNN gives result accuracy: 0.959064327485\n"
     ]
    }
   ],
   "source": [
    "y_pred = predict_all(x_train,y_train,x_test,7)\n",
    "print(\"Implemented KNN gives result accuracy:\", accuracy_score(y_test,y_pred))"
   ]
  },
  {
   "cell_type": "markdown",
   "metadata": {},
   "source": [
    "# Accuracy Results are pretty much the same."
   ]
  }
 ],
 "metadata": {
  "kernelspec": {
   "display_name": "Python 3",
   "language": "python",
   "name": "python3"
  },
  "language_info": {
   "codemirror_mode": {
    "name": "ipython",
    "version": 3
   },
   "file_extension": ".py",
   "mimetype": "text/x-python",
   "name": "python",
   "nbconvert_exporter": "python",
   "pygments_lexer": "ipython3",
   "version": "3.6.3"
  }
 },
 "nbformat": 4,
 "nbformat_minor": 2
}
