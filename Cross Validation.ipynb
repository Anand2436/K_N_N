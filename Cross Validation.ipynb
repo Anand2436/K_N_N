{
 "cells": [
  {
   "cell_type": "markdown",
   "metadata": {},
   "source": [
    "We have to find our best suited value of p in minkowski. Methods to do that :\n",
    "==> If training data passed , can lead to overfitting. Passing testing data to choose p violates the basic rule that testing data should be used for testing.\n",
    "Therfore , in cross validation we divide our training data into k parts and use k-1 parts as training and kth subset as testing.\n",
    "\n",
    "==> We get k accuracy results , we take avg of them all to see overall accuracy"
   ]
  },
  {
   "cell_type": "code",
   "execution_count": 7,
   "metadata": {},
   "outputs": [],
   "source": [
    "import numpy as np\n",
    "from sklearn import datasets\n",
    "from sklearn.linear_model import LinearRegression\n",
    "from sklearn.model_selection import cross_val_score\n",
    "from sklearn.model_selection import KFold\n",
    "from sklearn.model_selection import train_test_split"
   ]
  },
  {
   "cell_type": "code",
   "execution_count": 8,
   "metadata": {
    "collapsed": true
   },
   "outputs": [],
   "source": [
    "iris_datasets = datasets.load_iris()\n",
    "x = iris_datasets.data\n",
    "y = iris_datasets.target\n",
    "\n",
    "\n",
    "xtrain , xtest , ytrain , ytest = train_test_split(x,y,random_state = 2,test_size = 0.2)"
   ]
  },
  {
   "cell_type": "code",
   "execution_count": 13,
   "metadata": {},
   "outputs": [
    {
     "name": "stdout",
     "output_type": "stream",
     "text": [
      "For xtrain: [ 0.92981187  0.9540735   0.87342633]\n",
      "For iris dataset without KFold: [ 0.  0.  0.]\n",
      "For iris dataset without KFold: [ 0.90335825  0.92525985  0.94159336]\n"
     ]
    }
   ],
   "source": [
    "clf = LinearRegression()\n",
    "\n",
    "print(\"For xtrain:\",cross_val_score(clf,xtrain,ytrain)) ## makes default k = 3 partitions without any shuffle\n",
    "\n",
    "print(\"For iris dataset without KFold:\",cross_val_score(clf,x,y)) ## output is zero because 3 partitions made without any shuffle\n",
    "# iris dataset contains 50,50,50 datasets for three classes\n",
    "# so in all three combinations we train our clf with two classes only , \n",
    "# whereas testing data will result in third class only\n",
    "\n",
    "print(\"For iris dataset without KFold:\",cross_val_score(clf,x,y,cv = KFold(3,True,0))) \n",
    "# To avoid above consequences , we passed KFold function itself having params:\n",
    "# 1 k\n",
    "# 2 shuffle\n",
    "# random_State"
   ]
  }
 ],
 "metadata": {
  "kernelspec": {
   "display_name": "Python 3",
   "language": "python",
   "name": "python3"
  },
  "language_info": {
   "codemirror_mode": {
    "name": "ipython",
    "version": 3
   },
   "file_extension": ".py",
   "mimetype": "text/x-python",
   "name": "python",
   "nbconvert_exporter": "python",
   "pygments_lexer": "ipython3",
   "version": "3.6.3"
  }
 },
 "nbformat": 4,
 "nbformat_minor": 2
}
